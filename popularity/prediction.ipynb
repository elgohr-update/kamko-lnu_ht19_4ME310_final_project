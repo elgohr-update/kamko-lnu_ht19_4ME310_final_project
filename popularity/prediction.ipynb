{
 "cells": [
  {
   "cell_type": "code",
   "execution_count": 65,
   "metadata": {},
   "outputs": [
    {
     "data": {
      "text/plain": [
       "<module 'common' from 'C:\\\\Users\\\\j\\\\projects\\\\adaptive-web-project\\\\popularity\\\\common.py'>"
      ]
     },
     "execution_count": 65,
     "metadata": {},
     "output_type": "execute_result"
    }
   ],
   "source": [
    "import importlib\n",
    "\n",
    "import common\n",
    "\n",
    "importlib.reload(common)"
   ]
  },
  {
   "cell_type": "code",
   "execution_count": 66,
   "metadata": {},
   "outputs": [],
   "source": [
    "%matplotlib inline\n",
    "\n",
    "import numpy as np\n",
    "import pandas as pd\n",
    "import seaborn as sns\n",
    "import matplotlib.pyplot as plt\n",
    "import sqlalchemy\n",
    "from sklearn.ensemble import RandomForestClassifier, GradientBoostingClassifier, VotingClassifier\n",
    "\n",
    "\n",
    "\n",
    "from common import create_engine\n",
    "from common import display_all\n",
    "from common import figsize\n",
    "from common import save_df\n",
    "from common import save_model, read_model\n",
    "\n",
    "\n",
    "from pandas.plotting import register_matplotlib_converters\n",
    "register_matplotlib_converters() # converters e.g. for datetime in plots"
   ]
  },
  {
   "cell_type": "code",
   "execution_count": 6,
   "metadata": {},
   "outputs": [],
   "source": [
    "engine = create_engine('db-conf.json', 'local')\n",
    "pd.sql = lambda sql: pd.read_sql(sqlalchemy.text(sql), con=engine)"
   ]
  },
  {
   "cell_type": "code",
   "execution_count": 14,
   "metadata": {},
   "outputs": [],
   "source": [
    "# get data from one source (NN)\n",
    "\n",
    "fetch_data_query = '''\n",
    "WITH fb_popularity AS (SELECT sbq.url, sbq.sync_date, sbq.reaction_count, sbq.comment_count, sbq.share_count\n",
    "                       FROM (\n",
    "                                SELECT afe.*, row_number() OVER (PARTITION BY url ORDER BY sync_date) as rn\n",
    "                                FROM article_fb_engagement afe) sbq\n",
    "                       WHERE sbq.rn = 1\n",
    ")\n",
    "SELECT a.id,\n",
    "       a.url,\n",
    "       title,\n",
    "       perex,\n",
    "       body,\n",
    "       published_at,\n",
    "       extracted_at,\n",
    "       a.source_id,\n",
    "       category,\n",
    "       other_info,\n",
    "       aut.name                                       as author_name,\n",
    "       s.id                                           as source_id,\n",
    "       s.name                                         as source_name,\n",
    "       s.url                                          as source_url,\n",
    "       stype                                          as source_type,\n",
    "       is_reliable::integer                           as source_is_reliable,\n",
    "       sync_date                                      as fb_sync_date,\n",
    "       reaction_count                                 as fb_reaction_count,\n",
    "       comment_count                                  as fb_comment_count,\n",
    "       share_count                                    as fb_share_count,\n",
    "       (reaction_count + comment_count + share_count) as fb_popularity\n",
    "FROM article a\n",
    "         JOIN source s on a.source_id = s.id\n",
    "         JOIN (SELECT * FROM fb_popularity) p ON a.url = p.url\n",
    "         JOIN author aut on a.author_id = aut.id\n",
    "WHERE s.id = 142;\n",
    "'''\n",
    "\n",
    "df = pd.sql(fetch_data_query)"
   ]
  },
  {
   "cell_type": "code",
   "execution_count": 16,
   "metadata": {},
   "outputs": [
    {
     "name": "stdout",
     "output_type": "stream",
     "text": [
      "<class 'pandas.core.frame.DataFrame'>\n",
      "RangeIndex: 17752 entries, 0 to 17751\n",
      "Data columns (total 21 columns):\n",
      "id                    17752 non-null int64\n",
      "url                   17752 non-null object\n",
      "title                 17752 non-null object\n",
      "perex                 17752 non-null object\n",
      "body                  17752 non-null object\n",
      "published_at          17752 non-null datetime64[ns]\n",
      "extracted_at          17752 non-null datetime64[ns]\n",
      "source_id             17752 non-null int64\n",
      "category              17752 non-null object\n",
      "other_info            17752 non-null object\n",
      "author_name           17752 non-null object\n",
      "source_id             17752 non-null int64\n",
      "source_name           17752 non-null object\n",
      "source_url            17752 non-null object\n",
      "source_type           17752 non-null object\n",
      "source_is_reliable    17752 non-null int64\n",
      "fb_sync_date          17752 non-null datetime64[ns]\n",
      "fb_reaction_count     17752 non-null int64\n",
      "fb_comment_count      17752 non-null int64\n",
      "fb_share_count        17752 non-null int64\n",
      "fb_popularity         17752 non-null int64\n",
      "dtypes: datetime64[ns](3), int64(8), object(10)\n",
      "memory usage: 2.8+ MB\n"
     ]
    }
   ],
   "source": [
    "df.info()"
   ]
  },
  {
   "cell_type": "code",
   "execution_count": 46,
   "metadata": {},
   "outputs": [],
   "source": [
    "# our blog has only title and body + label\n",
    "\n",
    "df = df[['id', 'title', 'body', 'fb_popularity']]\n",
    "df = df.set_index('id')"
   ]
  },
  {
   "cell_type": "markdown",
   "metadata": {},
   "source": [
    "get popularity predictions (labels)"
   ]
  },
  {
   "cell_type": "code",
   "execution_count": 22,
   "metadata": {},
   "outputs": [
    {
     "data": {
      "text/html": [
       "<div>\n",
       "<style scoped>\n",
       "    .dataframe tbody tr th:only-of-type {\n",
       "        vertical-align: middle;\n",
       "    }\n",
       "\n",
       "    .dataframe tbody tr th {\n",
       "        vertical-align: top;\n",
       "    }\n",
       "\n",
       "    .dataframe thead th {\n",
       "        text-align: right;\n",
       "    }\n",
       "</style>\n",
       "<table border=\"1\" class=\"dataframe\">\n",
       "  <thead>\n",
       "    <tr style=\"text-align: right;\">\n",
       "      <th></th>\n",
       "      <th>id</th>\n",
       "      <th>title</th>\n",
       "      <th>body</th>\n",
       "      <th>fb_popularity</th>\n",
       "    </tr>\n",
       "  </thead>\n",
       "  <tbody>\n",
       "    <tr>\n",
       "      <td>0</td>\n",
       "      <td>375231</td>\n",
       "      <td>10 Air Purifying Plants To Remove Harmful Indo...</td>\n",
       "      <td>Now a days air purifying plants have gained sp...</td>\n",
       "      <td>0</td>\n",
       "    </tr>\n",
       "    <tr>\n",
       "      <td>1</td>\n",
       "      <td>373614</td>\n",
       "      <td>10 Amazing Benefits Of Matcha Green Tea (Match...</td>\n",
       "      <td>Matcha green tea has a long history in Japanes...</td>\n",
       "      <td>0</td>\n",
       "    </tr>\n",
       "    <tr>\n",
       "      <td>2</td>\n",
       "      <td>374690</td>\n",
       "      <td>10 Amazing Benefits Of Okra/Lady’s Finger For ...</td>\n",
       "      <td>Okra is usually available fresh year-round and...</td>\n",
       "      <td>0</td>\n",
       "    </tr>\n",
       "    <tr>\n",
       "      <td>3</td>\n",
       "      <td>373633</td>\n",
       "      <td>10 Amazing Reasons to have Sex Daily</td>\n",
       "      <td>Sex really isn’t just about having fun or maki...</td>\n",
       "      <td>0</td>\n",
       "    </tr>\n",
       "    <tr>\n",
       "      <td>4</td>\n",
       "      <td>379834</td>\n",
       "      <td>10 Benefits of Himalayan Salt for Health and B...</td>\n",
       "      <td>Before you get to know important benefits of H...</td>\n",
       "      <td>4</td>\n",
       "    </tr>\n",
       "    <tr>\n",
       "      <td>...</td>\n",
       "      <td>...</td>\n",
       "      <td>...</td>\n",
       "      <td>...</td>\n",
       "      <td>...</td>\n",
       "    </tr>\n",
       "    <tr>\n",
       "      <td>17747</td>\n",
       "      <td>244742</td>\n",
       "      <td>Your Spiritual Right to GMO Labeling</td>\n",
       "      <td>As you already figured out, I tried to find ou...</td>\n",
       "      <td>0</td>\n",
       "    </tr>\n",
       "    <tr>\n",
       "      <td>17748</td>\n",
       "      <td>243930</td>\n",
       "      <td>Your Weekly Food-Like-Product &amp;#8211; Doritos ...</td>\n",
       "      <td>Doritos Pt. 2\\n(5.) Red #40\\nDyes are complex ...</td>\n",
       "      <td>1</td>\n",
       "    </tr>\n",
       "    <tr>\n",
       "      <td>17749</td>\n",
       "      <td>246785</td>\n",
       "      <td>Yummy Mint Chocolate Chip Ice Cream</td>\n",
       "      <td>Mint chocolate chip ice cream is a favorite de...</td>\n",
       "      <td>0</td>\n",
       "    </tr>\n",
       "    <tr>\n",
       "      <td>17750</td>\n",
       "      <td>242213</td>\n",
       "      <td>Zika virus in Brazil raises mosquito and vacci...</td>\n",
       "      <td>The Zika virus outbreak in Brazil has been bla...</td>\n",
       "      <td>1</td>\n",
       "    </tr>\n",
       "    <tr>\n",
       "      <td>17751</td>\n",
       "      <td>242518</td>\n",
       "      <td>How Zika Virus Poses a Threat to Rio Olympics ...</td>\n",
       "      <td>The Rio Olympics 2016 to take place at Rio de ...</td>\n",
       "      <td>0</td>\n",
       "    </tr>\n",
       "  </tbody>\n",
       "</table>\n",
       "<p>17752 rows × 4 columns</p>\n",
       "</div>"
      ],
      "text/plain": [
       "           id                                              title  \\\n",
       "0      375231  10 Air Purifying Plants To Remove Harmful Indo...   \n",
       "1      373614  10 Amazing Benefits Of Matcha Green Tea (Match...   \n",
       "2      374690  10 Amazing Benefits Of Okra/Lady’s Finger For ...   \n",
       "3      373633               10 Amazing Reasons to have Sex Daily   \n",
       "4      379834  10 Benefits of Himalayan Salt for Health and B...   \n",
       "...       ...                                                ...   \n",
       "17747  244742               Your Spiritual Right to GMO Labeling   \n",
       "17748  243930  Your Weekly Food-Like-Product &#8211; Doritos ...   \n",
       "17749  246785                Yummy Mint Chocolate Chip Ice Cream   \n",
       "17750  242213  Zika virus in Brazil raises mosquito and vacci...   \n",
       "17751  242518  How Zika Virus Poses a Threat to Rio Olympics ...   \n",
       "\n",
       "                                                    body  fb_popularity  \n",
       "0      Now a days air purifying plants have gained sp...              0  \n",
       "1      Matcha green tea has a long history in Japanes...              0  \n",
       "2      Okra is usually available fresh year-round and...              0  \n",
       "3      Sex really isn’t just about having fun or maki...              0  \n",
       "4      Before you get to know important benefits of H...              4  \n",
       "...                                                  ...            ...  \n",
       "17747  As you already figured out, I tried to find ou...              0  \n",
       "17748  Doritos Pt. 2\\n(5.) Red #40\\nDyes are complex ...              1  \n",
       "17749  Mint chocolate chip ice cream is a favorite de...              0  \n",
       "17750  The Zika virus outbreak in Brazil has been bla...              1  \n",
       "17751  The Rio Olympics 2016 to take place at Rio de ...              0  \n",
       "\n",
       "[17752 rows x 4 columns]"
      ]
     },
     "execution_count": 22,
     "metadata": {},
     "output_type": "execute_result"
    }
   ],
   "source": [
    "df"
   ]
  },
  {
   "cell_type": "code",
   "execution_count": 24,
   "metadata": {},
   "outputs": [
    {
     "data": {
      "text/plain": [
       "count     17752.000000\n",
       "mean         86.906377\n",
       "std        2294.931460\n",
       "min           0.000000\n",
       "25%           0.000000\n",
       "50%           0.000000\n",
       "75%           1.000000\n",
       "max      203855.000000\n",
       "Name: fb_popularity, dtype: float64"
      ]
     },
     "execution_count": 24,
     "metadata": {},
     "output_type": "execute_result"
    }
   ],
   "source": [
    "df.fb_popularity.describe()"
   ]
  },
  {
   "cell_type": "code",
   "execution_count": 25,
   "metadata": {},
   "outputs": [],
   "source": [
    "df['label'] = -1"
   ]
  },
  {
   "cell_type": "code",
   "execution_count": 31,
   "metadata": {},
   "outputs": [
    {
     "data": {
      "text/plain": [
       "0.65      0.00\n",
       "0.85      4.00\n",
       "0.95     45.00\n",
       "0.98    409.84\n",
       "Name: fb_popularity, dtype: float64"
      ]
     },
     "execution_count": 31,
     "metadata": {},
     "output_type": "execute_result"
    }
   ],
   "source": [
    "df.fb_popularity.quantile([.65, .85, .95, .98])"
   ]
  },
  {
   "cell_type": "code",
   "execution_count": 35,
   "metadata": {},
   "outputs": [],
   "source": [
    "df.loc[df.fb_popularity >= 0, 'label'] = 1\n",
    "df.loc[df.fb_popularity >= 4, 'label'] = 2\n",
    "df.loc[df.fb_popularity >= 45, 'label'] = 3\n",
    "df.loc[df.fb_popularity >= 409, 'label'] = 4"
   ]
  },
  {
   "cell_type": "code",
   "execution_count": 37,
   "metadata": {},
   "outputs": [
    {
     "data": {
      "text/plain": [
       "1    15007\n",
       "2     1851\n",
       "3      538\n",
       "4      356\n",
       "Name: label, dtype: int64"
      ]
     },
     "execution_count": 37,
     "metadata": {},
     "output_type": "execute_result"
    }
   ],
   "source": [
    "df.label.value_counts()"
   ]
  },
  {
   "cell_type": "code",
   "execution_count": 39,
   "metadata": {},
   "outputs": [],
   "source": [
    "df = df.drop(columns=['fb_popularity'])"
   ]
  },
  {
   "cell_type": "code",
   "execution_count": 48,
   "metadata": {},
   "outputs": [
    {
     "data": {
      "text/html": [
       "<div>\n",
       "<style scoped>\n",
       "    .dataframe tbody tr th:only-of-type {\n",
       "        vertical-align: middle;\n",
       "    }\n",
       "\n",
       "    .dataframe tbody tr th {\n",
       "        vertical-align: top;\n",
       "    }\n",
       "\n",
       "    .dataframe thead th {\n",
       "        text-align: right;\n",
       "    }\n",
       "</style>\n",
       "<table border=\"1\" class=\"dataframe\">\n",
       "  <thead>\n",
       "    <tr style=\"text-align: right;\">\n",
       "      <th></th>\n",
       "      <th>title</th>\n",
       "      <th>body</th>\n",
       "      <th>label</th>\n",
       "    </tr>\n",
       "    <tr>\n",
       "      <th>id</th>\n",
       "      <th></th>\n",
       "      <th></th>\n",
       "      <th></th>\n",
       "    </tr>\n",
       "  </thead>\n",
       "  <tbody>\n",
       "    <tr>\n",
       "      <td>375231</td>\n",
       "      <td>10 Air Purifying Plants To Remove Harmful Indo...</td>\n",
       "      <td>Now a days air purifying plants have gained sp...</td>\n",
       "      <td>1</td>\n",
       "    </tr>\n",
       "    <tr>\n",
       "      <td>373614</td>\n",
       "      <td>10 Amazing Benefits Of Matcha Green Tea (Match...</td>\n",
       "      <td>Matcha green tea has a long history in Japanes...</td>\n",
       "      <td>1</td>\n",
       "    </tr>\n",
       "    <tr>\n",
       "      <td>374690</td>\n",
       "      <td>10 Amazing Benefits Of Okra/Lady’s Finger For ...</td>\n",
       "      <td>Okra is usually available fresh year-round and...</td>\n",
       "      <td>1</td>\n",
       "    </tr>\n",
       "    <tr>\n",
       "      <td>373633</td>\n",
       "      <td>10 Amazing Reasons to have Sex Daily</td>\n",
       "      <td>Sex really isn’t just about having fun or maki...</td>\n",
       "      <td>1</td>\n",
       "    </tr>\n",
       "    <tr>\n",
       "      <td>379834</td>\n",
       "      <td>10 Benefits of Himalayan Salt for Health and B...</td>\n",
       "      <td>Before you get to know important benefits of H...</td>\n",
       "      <td>2</td>\n",
       "    </tr>\n",
       "    <tr>\n",
       "      <td>...</td>\n",
       "      <td>...</td>\n",
       "      <td>...</td>\n",
       "      <td>...</td>\n",
       "    </tr>\n",
       "    <tr>\n",
       "      <td>244742</td>\n",
       "      <td>Your Spiritual Right to GMO Labeling</td>\n",
       "      <td>As you already figured out, I tried to find ou...</td>\n",
       "      <td>1</td>\n",
       "    </tr>\n",
       "    <tr>\n",
       "      <td>243930</td>\n",
       "      <td>Your Weekly Food-Like-Product &amp;#8211; Doritos ...</td>\n",
       "      <td>Doritos Pt. 2\\n(5.) Red #40\\nDyes are complex ...</td>\n",
       "      <td>1</td>\n",
       "    </tr>\n",
       "    <tr>\n",
       "      <td>246785</td>\n",
       "      <td>Yummy Mint Chocolate Chip Ice Cream</td>\n",
       "      <td>Mint chocolate chip ice cream is a favorite de...</td>\n",
       "      <td>1</td>\n",
       "    </tr>\n",
       "    <tr>\n",
       "      <td>242213</td>\n",
       "      <td>Zika virus in Brazil raises mosquito and vacci...</td>\n",
       "      <td>The Zika virus outbreak in Brazil has been bla...</td>\n",
       "      <td>1</td>\n",
       "    </tr>\n",
       "    <tr>\n",
       "      <td>242518</td>\n",
       "      <td>How Zika Virus Poses a Threat to Rio Olympics ...</td>\n",
       "      <td>The Rio Olympics 2016 to take place at Rio de ...</td>\n",
       "      <td>1</td>\n",
       "    </tr>\n",
       "  </tbody>\n",
       "</table>\n",
       "<p>17752 rows × 3 columns</p>\n",
       "</div>"
      ],
      "text/plain": [
       "                                                    title  \\\n",
       "id                                                          \n",
       "375231  10 Air Purifying Plants To Remove Harmful Indo...   \n",
       "373614  10 Amazing Benefits Of Matcha Green Tea (Match...   \n",
       "374690  10 Amazing Benefits Of Okra/Lady’s Finger For ...   \n",
       "373633               10 Amazing Reasons to have Sex Daily   \n",
       "379834  10 Benefits of Himalayan Salt for Health and B...   \n",
       "...                                                   ...   \n",
       "244742               Your Spiritual Right to GMO Labeling   \n",
       "243930  Your Weekly Food-Like-Product &#8211; Doritos ...   \n",
       "246785                Yummy Mint Chocolate Chip Ice Cream   \n",
       "242213  Zika virus in Brazil raises mosquito and vacci...   \n",
       "242518  How Zika Virus Poses a Threat to Rio Olympics ...   \n",
       "\n",
       "                                                     body  label  \n",
       "id                                                                \n",
       "375231  Now a days air purifying plants have gained sp...      1  \n",
       "373614  Matcha green tea has a long history in Japanes...      1  \n",
       "374690  Okra is usually available fresh year-round and...      1  \n",
       "373633  Sex really isn’t just about having fun or maki...      1  \n",
       "379834  Before you get to know important benefits of H...      2  \n",
       "...                                                   ...    ...  \n",
       "244742  As you already figured out, I tried to find ou...      1  \n",
       "243930  Doritos Pt. 2\\n(5.) Red #40\\nDyes are complex ...      1  \n",
       "246785  Mint chocolate chip ice cream is a favorite de...      1  \n",
       "242213  The Zika virus outbreak in Brazil has been bla...      1  \n",
       "242518  The Rio Olympics 2016 to take place at Rio de ...      1  \n",
       "\n",
       "[17752 rows x 3 columns]"
      ]
     },
     "execution_count": 48,
     "metadata": {},
     "output_type": "execute_result"
    }
   ],
   "source": [
    "df"
   ]
  },
  {
   "cell_type": "code",
   "execution_count": 51,
   "metadata": {},
   "outputs": [],
   "source": [
    "from sklearn.model_selection import train_test_split\n",
    "\n",
    "target_df = df\n",
    "\n",
    "y = target_df['label']\n",
    "X = target_df.drop(columns='label')\n",
    "\n",
    "X_train, X_test, y_train, y_test = train_test_split(X, y, random_state=123)"
   ]
  },
  {
   "cell_type": "code",
   "execution_count": 55,
   "metadata": {},
   "outputs": [
    {
     "data": {
      "text/html": [
       "<div>\n",
       "<style scoped>\n",
       "    .dataframe tbody tr th:only-of-type {\n",
       "        vertical-align: middle;\n",
       "    }\n",
       "\n",
       "    .dataframe tbody tr th {\n",
       "        vertical-align: top;\n",
       "    }\n",
       "\n",
       "    .dataframe thead th {\n",
       "        text-align: right;\n",
       "    }\n",
       "</style>\n",
       "<table border=\"1\" class=\"dataframe\">\n",
       "  <thead>\n",
       "    <tr style=\"text-align: right;\">\n",
       "      <th></th>\n",
       "      <th>title</th>\n",
       "      <th>body</th>\n",
       "    </tr>\n",
       "    <tr>\n",
       "      <th>id</th>\n",
       "      <th></th>\n",
       "      <th></th>\n",
       "    </tr>\n",
       "  </thead>\n",
       "  <tbody>\n",
       "    <tr>\n",
       "      <td>247218</td>\n",
       "      <td>Prescription Drugs That Whack Your Thyroid</td>\n",
       "      <td>Many prescription drugs make life hard for you...</td>\n",
       "    </tr>\n",
       "    <tr>\n",
       "      <td>240192</td>\n",
       "      <td>Five Herbal Remedies for Skin Allergies</td>\n",
       "      <td>Your skin may become red, itchy, irritated, bu...</td>\n",
       "    </tr>\n",
       "    <tr>\n",
       "      <td>241688</td>\n",
       "      <td>Severe childhood asthma linked to new gene mut...</td>\n",
       "      <td>A new study, which involved the collaborative ...</td>\n",
       "    </tr>\n",
       "    <tr>\n",
       "      <td>372903</td>\n",
       "      <td>10 Healing Foods to Include in the Diet</td>\n",
       "      <td>More and more people – within the healthcare c...</td>\n",
       "    </tr>\n",
       "    <tr>\n",
       "      <td>240174</td>\n",
       "      <td>Calm menstrual trouble with blackstrap molasses</td>\n",
       "      <td>Blackstrap molasses may sound funny when said ...</td>\n",
       "    </tr>\n",
       "    <tr>\n",
       "      <td>...</td>\n",
       "      <td>...</td>\n",
       "      <td>...</td>\n",
       "    </tr>\n",
       "    <tr>\n",
       "      <td>374049</td>\n",
       "      <td>12 Symptoms Of Autoimmune Disease! How To Reve...</td>\n",
       "      <td>Autoimmune conditions affect over 50 million A...</td>\n",
       "    </tr>\n",
       "    <tr>\n",
       "      <td>379993</td>\n",
       "      <td>Top 6 Far-reaching Benefits of Edamame &amp;#8211;...</td>\n",
       "      <td>It is highly certain that almost all of us are...</td>\n",
       "    </tr>\n",
       "    <tr>\n",
       "      <td>247063</td>\n",
       "      <td>This Tea May Be The Solution to Your Bloating</td>\n",
       "      <td>Whether from a gastrointestinal issue or from ...</td>\n",
       "    </tr>\n",
       "    <tr>\n",
       "      <td>243721</td>\n",
       "      <td>Why you should be drinking Kombucha and how to...</td>\n",
       "      <td>Kombucha is a living health drink that consist...</td>\n",
       "    </tr>\n",
       "    <tr>\n",
       "      <td>375937</td>\n",
       "      <td>7 Wonderful Benefits of Ginger Oil &amp;amp; How t...</td>\n",
       "      <td>Ginger is one of the most highly valued spices...</td>\n",
       "    </tr>\n",
       "  </tbody>\n",
       "</table>\n",
       "<p>13314 rows × 2 columns</p>\n",
       "</div>"
      ],
      "text/plain": [
       "                                                    title  \\\n",
       "id                                                          \n",
       "247218         Prescription Drugs That Whack Your Thyroid   \n",
       "240192            Five Herbal Remedies for Skin Allergies   \n",
       "241688  Severe childhood asthma linked to new gene mut...   \n",
       "372903            10 Healing Foods to Include in the Diet   \n",
       "240174    Calm menstrual trouble with blackstrap molasses   \n",
       "...                                                   ...   \n",
       "374049  12 Symptoms Of Autoimmune Disease! How To Reve...   \n",
       "379993  Top 6 Far-reaching Benefits of Edamame &#8211;...   \n",
       "247063      This Tea May Be The Solution to Your Bloating   \n",
       "243721  Why you should be drinking Kombucha and how to...   \n",
       "375937  7 Wonderful Benefits of Ginger Oil &amp; How t...   \n",
       "\n",
       "                                                     body  \n",
       "id                                                         \n",
       "247218  Many prescription drugs make life hard for you...  \n",
       "240192  Your skin may become red, itchy, irritated, bu...  \n",
       "241688  A new study, which involved the collaborative ...  \n",
       "372903  More and more people – within the healthcare c...  \n",
       "240174  Blackstrap molasses may sound funny when said ...  \n",
       "...                                                   ...  \n",
       "374049  Autoimmune conditions affect over 50 million A...  \n",
       "379993  It is highly certain that almost all of us are...  \n",
       "247063  Whether from a gastrointestinal issue or from ...  \n",
       "243721  Kombucha is a living health drink that consist...  \n",
       "375937  Ginger is one of the most highly valued spices...  \n",
       "\n",
       "[13314 rows x 2 columns]"
      ]
     },
     "execution_count": 55,
     "metadata": {},
     "output_type": "execute_result"
    }
   ],
   "source": [
    "X_train"
   ]
  },
  {
   "cell_type": "code",
   "execution_count": 58,
   "metadata": {},
   "outputs": [],
   "source": [
    "rdf = RandomForestClassifier()"
   ]
  },
  {
   "cell_type": "code",
   "execution_count": null,
   "metadata": {},
   "outputs": [],
   "source": []
  },
  {
   "cell_type": "code",
   "execution_count": 60,
   "metadata": {},
   "outputs": [],
   "source": [
    "# rdf.fit(X_train, y_train)"
   ]
  },
  {
   "cell_type": "code",
   "execution_count": null,
   "metadata": {},
   "outputs": [],
   "source": []
  },
  {
   "cell_type": "code",
   "execution_count": 67,
   "metadata": {},
   "outputs": [],
   "source": [
    "save_model(rdf)"
   ]
  }
 ],
 "metadata": {
  "kernelspec": {
   "display_name": "Python 3",
   "language": "python",
   "name": "python3"
  },
  "language_info": {
   "codemirror_mode": {
    "name": "ipython",
    "version": 3
   },
   "file_extension": ".py",
   "mimetype": "text/x-python",
   "name": "python",
   "nbconvert_exporter": "python",
   "pygments_lexer": "ipython3",
   "version": "3.7.4"
  }
 },
 "nbformat": 4,
 "nbformat_minor": 4
}
